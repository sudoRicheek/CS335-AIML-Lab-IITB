{
 "cells": [
  {
   "cell_type": "markdown",
   "metadata": {
    "id": "B8gKZpl5me4I"
   },
   "source": [
    "\n",
    "## <font color=red> You should not import any new libraries. Your code should run with python=3.x</font>\n",
    "## <font color=red> Please don't rename this .ipynb file.</font><br>\n",
    "- Your solutions will be auto-graded. Hence we request you to follow the instructions.\n",
    "- Modify the code only between \n",
    "```\n",
    "## TODO\n",
    "## END TODO\n",
    "```\n",
    "- In addition to above changes, you can play with arguments to the functions for generating plots\n",
    "- We will run the auto grading scripts with private test data"
   ]
  },
  {
   "cell_type": "code",
   "execution_count": 4,
   "metadata": {
    "id": "gnXVhbxMc10V"
   },
   "outputs": [],
   "source": [
    "import math\n",
    "import numpy as np\n",
    "import matplotlib.pyplot as plt\n",
    "import pandas as pd\n",
    "from numpy.linalg import inv # use this function to invert matrices"
   ]
  },
  {
   "cell_type": "markdown",
   "metadata": {
    "id": "1tzeArL4rODu"
   },
   "source": [
    "## Please make sure that your code works with loading data from relative path only\n",
    "\n",
    "i.e. ```pd.read_csv('./data/single_var_new.csv')``` should not throw an error when we run the auto-grading scripts"
   ]
  },
  {
   "cell_type": "code",
   "execution_count": 5,
   "metadata": {
    "id": "8dO3U5A1rODu"
   },
   "outputs": [],
   "source": [
    "data_single = pd.read_csv('./data/single_var.csv')\n",
    "X_single = np.array(data_single['x_gt'])\n",
    "Y_single = np.array(data_single['y_gt'])\n",
    "\n",
    "data_multi = pd.read_csv('./data/multi_var.csv')\n",
    "cols = [f\"x_gt_{idx}\" for idx in range(1, 6)]\n",
    "X_multi = np.array(data_multi[cols])\n",
    "Y_multi = np.array(data_multi['y_gt'])"
   ]
  },
  {
   "cell_type": "markdown",
   "metadata": {
    "id": "ko_aLCmDdXvZ"
   },
   "source": [
    "## Plot Graphs\n",
    "\n",
    "- This function plots the ground truth curve in <font color=green>green</font> and the predicted function in <font color=red>red</font>"
   ]
  },
  {
   "cell_type": "code",
   "execution_count": 8,
   "metadata": {
    "id": "xlXKQnMtrODv"
   },
   "outputs": [],
   "source": [
    "def plot_curves(w, b, x, y):\n",
    "  '''\n",
    "  Plots the curves for groud truth function and the fitted function\n",
    "\n",
    "  Args:\n",
    "  w - list of parameters\n",
    "  b - float\n",
    "  x - data features\n",
    "  y - output value\n",
    "  '''\n",
    "\n",
    "  assert type(w) == type([0]), f'Please pass a list of parameters to plot_curves and not {type(w)}'\n",
    "\n",
    "  x_gt = np.linspace(-1, 2, 50)\n",
    "  y_gt = 1 - 3 * x_gt - 2 * x_gt ** 2 + 2.5 * x_gt ** 3\n",
    "\n",
    "  if len(w) == 1:\n",
    "    y_fit = w * x_gt + b\n",
    "  elif len(w) == 5:\n",
    "    x_fit = x_gt\n",
    "    for pow in range(2, 4):\n",
    "      x_fit = np.vstack([x_fit, np.power(x_gt, pow)])\n",
    "    \n",
    "    x_fit = np.vstack([x_fit, np.sin(np.pi * 2 * x_gt)])\n",
    "    x_fit = np.vstack([x_fit, np.cos(np.pi * x_gt)])\n",
    "    y_fit = np.dot(w, x_fit) + b\n",
    "  else:\n",
    "    assert False, 'Pass a valid w'\n",
    "  plt.plot(x_gt, y_gt, color=\"green\", label='1 - 3 * x - 2 * x ** 2 + 2.5 * x ** 3')\n",
    "  plt.plot(x_gt, y_fit, color='red', label=\"Fitted Function y = w.Tx + b\")\n",
    "  if len(x.shape) == 1:\n",
    "    x_plot = np.vstack([x, np.ones(len(x))]).T\n",
    "  else:\n",
    "    x_plot = x\n",
    "  plt.scatter(x_plot[:,0],y)\n",
    "  plt.legend()\n",
    "  plt.title(\"OLS\")\n",
    "  plt.show()"
   ]
  },
  {
   "cell_type": "markdown",
   "metadata": {
    "id": "2x12RnAoy45s"
   },
   "source": [
    "## Split data into train/validation\n",
    "- make sure that training and validation datasets are disjoint\n",
    "- Split data into train and validation sets such that train contains floor(n_sampes * train_ratio) and test contains the remaining samples"
   ]
  },
  {
   "cell_type": "code",
   "execution_count": 9,
   "metadata": {
    "id": "wq4DFSUprODw"
   },
   "outputs": [],
   "source": [
    "def split_data(X, Y, train_ratio=0.6):\n",
    "    '''\n",
    "    Split data into train and validation sets such that train\n",
    "    contains floor(n_sampes * train_ratio) and test contains the remaining\n",
    "    samples\n",
    "\n",
    "    Args:\n",
    "    X - numpy array of shape (n_samples, n_features)\n",
    "    Y - numpy array of shape (n_samples, 1)\n",
    "    train_ratio - fraction of samples to be used as training data\n",
    "\n",
    "    Returns:\n",
    "    X_train, Y_train, X_val, Y_val\n",
    "    '''\n",
    "\n",
    "    ## TODO\n",
    "\n",
    "\n",
    "    \n",
    "    ## END TODO\n",
    "    \n",
    "    return X_train, Y_train, X_val, Y_val"
   ]
  },
  {
   "cell_type": "markdown",
   "metadata": {
    "id": "6Eh-aXuzrODy"
   },
   "source": [
    "## mse for single variable regression"
   ]
  },
  {
   "cell_type": "code",
   "execution_count": null,
   "metadata": {
    "id": "vbLHCBUyrODz"
   },
   "outputs": [],
   "source": [
    "def mse_single_var(X, Y, w, b):\n",
    "    '''\n",
    "    Compute mean squared error between predictions and true y values\n",
    "\n",
    "    Args:\n",
    "    X - numpy array of shape (n_samples, 1)\n",
    "    Y - numpy array of shape (n_samples, 1)\n",
    "    w - a float\n",
    "    b - a float\n",
    "    '''\n",
    "\n",
    "    ## TODO\n",
    "\n",
    "\n",
    "\n",
    "    ## END TODO\n",
    "\n",
    "    return mse"
   ]
  },
  {
   "cell_type": "code",
   "execution_count": null,
   "metadata": {
    "id": "rYAAHfL7rODz"
   },
   "outputs": [],
   "source": [
    "def mse_multi_var(X, Y, w, b):\n",
    "    '''\n",
    "    Compute mean squared error between predictions and true y values\n",
    "\n",
    "    Args:\n",
    "    X - numpy array of shape (n_samples, 5)\n",
    "    Y - numpy array of shape (n_samples, 1)\n",
    "    w - list of parameters\n",
    "    b - a float\n",
    "    '''\n",
    "\n",
    "    ## TODO\n",
    "\n",
    "\n",
    "    \n",
    "    ## END TODO\n",
    "\n",
    "    return mse"
   ]
  },
  {
   "cell_type": "code",
   "execution_count": null,
   "metadata": {
    "id": "Opc-jPt8rODz"
   },
   "outputs": [],
   "source": [
    "def mse_regularized(X, Y, w, b, lamda):\n",
    "    '''\n",
    "    Compute mean squared error between predictions and true y values\n",
    "\n",
    "    Args:\n",
    "    X - numpy array of shape (n_samples, 5)\n",
    "    Y - numpy array of shape (n_samples, 1)\n",
    "    w - list of parameters\n",
    "    b - a float\n",
    "    '''\n",
    "\n",
    "    ## TODO\n",
    "\n",
    "\n",
    "\n",
    "    ## END TODO\n",
    "\n",
    "    return mse"
   ]
  },
  {
   "cell_type": "markdown",
   "metadata": {
    "id": "PyeQbbkjdE6v"
   },
   "source": [
    "# Single Variable Regression"
   ]
  },
  {
   "cell_type": "code",
   "execution_count": null,
   "metadata": {
    "id": "Ws8XUJXJrOD0"
   },
   "outputs": [],
   "source": [
    "def singlevar_grad(X_train, Y_train, X_val, Y_val, epochs=100, lr=1e-3):\n",
    "    '''\n",
    "    Perform single variable least squares regression using gradient descent\n",
    "\n",
    "    Args:\n",
    "    X_train - numpy array of shape (n_samples_train, 1)\n",
    "    Y_train - numpy array of shape (n_samples_train, 1)\n",
    "    X_val - numpy array of shape (n_samples_val, 1)\n",
    "    Y_val - numpy array of shape (n_samples_val, 1)\n",
    "    epochs - number of gradient descent steps\n",
    "    lr - learnig rate\n",
    "    '''\n",
    "\n",
    "    # Initialize the parameters with 0\n",
    "    w = 0\n",
    "    b = 0\n",
    "\n",
    "    ## TODO\n",
    "\n",
    "        \n",
    "    ## END TODO\n",
    "\n",
    "    mse_train = mse_single_var(X_train, Y_train, w, b)\n",
    "    mse_val = mse_single_var(X_val, Y_val, w, b)\n",
    "    print(f'Validation loss is {mse_val}')\n",
    "    print(f'Training Loss loss is {mse_train}')\n",
    "    plot_curves([w], b, X_train, Y_train)\n",
    "    return w, b\n",
    "\n",
    "\n",
    "def singlevar_closedform(X_train, Y_train, X_val, Y_val):\n",
    "    '''\n",
    "    Perform single variable least squares regression using closed form update \n",
    "    rules\n",
    "\n",
    "    Args:\n",
    "    X_train - numpy array of shape (n_samples_train, 1)\n",
    "    Y_train - numpy array of shape (n_samples_train, 1)\n",
    "    X_val - numpy array of shape (n_samples_val, 1)\n",
    "    Y_val - numpy array of shape (n_samples_val, 1)\n",
    "    '''\n",
    "\n",
    "    w = 0\n",
    "    b = 0\n",
    "\n",
    "    ## TODO\n",
    "    \n",
    "\n",
    "    \n",
    "    ## END TODO\n",
    "\n",
    "\n",
    "    mse_train = mse_single_var(X_train, Y_train, w, b)\n",
    "    mse_val = mse_single_var(X_val, Y_val, w, b)\n",
    "    print(f'Validation loss is {mse_val}')\n",
    "    print(f'Training Loss loss is {mse_train}')\n",
    "    plot_curves([w], b, X_train, Y_train)\n",
    "    return w, b"
   ]
  },
  {
   "cell_type": "code",
   "execution_count": null,
   "metadata": {
    "id": "gD47NfTcrqed"
   },
   "outputs": [],
   "source": [
    "X_train, Y_train, X_val, Y_val = split_data(X_single, Y_single, train_ratio=0.6)\n",
    "\n",
    "singlevar_grad(X_train, Y_train, X_val, Y_val)\n",
    "\n",
    "print('----'*30)\n",
    "\n",
    "singlevar_closedform(X_train, Y_train, X_val, Y_val)"
   ]
  },
  {
   "cell_type": "markdown",
   "metadata": {
    "id": "sWCVK4LtdJVM"
   },
   "source": [
    "# Multi Variable Regression\n"
   ]
  },
  {
   "cell_type": "code",
   "execution_count": null,
   "metadata": {
    "id": "DAQpmHPurOD1"
   },
   "outputs": [],
   "source": [
    "def multivar_grad(X_train, Y_train, X_val, Y_val, epochs=100, lr=1e-3):\n",
    "    '''\n",
    "    Perform multi variable least squares regression using gradient descent\n",
    "\n",
    "    Args:\n",
    "    X_train - numpy array of shape (n_samples_train, 5)\n",
    "    Y_train - numpy array of shape (n_samples_train, 1)\n",
    "    X_val - numpy array of shape (n_samples_val, 5)\n",
    "    Y_val - numpy array of shape (n_samples_val, 1)\n",
    "    epochs - number of gradient descent steps\n",
    "    lr - learnig rate\n",
    "    '''\n",
    "\n",
    "    w = [0.0] * X_train.shape[1]\n",
    "    b = 0\n",
    "\n",
    "    ## TODO\n",
    "\n",
    "\n",
    "\n",
    "    ### END TODO\n",
    "    \n",
    "    mse_train = mse_multi_var(X_train, Y_train, w, b)\n",
    "    mse_val = mse_multi_var(X_val, Y_val, w, b)\n",
    "    print(f'Validation loss if {mse_val}')\n",
    "    print(f'Training Loss loss if {mse_train}')\n",
    "    plot_curves(list(w), b, X_train, Y_train)\n",
    "    return w, b\n",
    "\n",
    "\n",
    "\n",
    "def multivar_closedform(X_train, Y_train, X_val, Y_val):\n",
    "    '''\n",
    "    Perform multi variable least squares regression using closed form \n",
    "    updates\n",
    "\n",
    "    Args:\n",
    "    X_train - numpy array of shape (n_samples_train, 5)\n",
    "    Y_train - numpy array of shape (n_samples_train, 1)\n",
    "    X_val - numpy array of shape (n_samples_val, 5)\n",
    "    Y_val - numpy array of shape (n_samples_val, 1)\n",
    "    '''\n",
    "\n",
    "    w = [0.0] * X_train.shape[1]\n",
    "    b = 0\n",
    "\n",
    "    ## TODO\n",
    "\n",
    "\n",
    "\n",
    "    ## END TODO\n",
    "\n",
    "    mse_train = mse_multi_var(X_train, Y_train, w, b)\n",
    "    mse_val = mse_multi_var(X_val, Y_val, w, b)\n",
    "    print(f'Validation loss if {mse_val}')\n",
    "    print(f'Training Loss loss if {mse_train}')\n",
    "    plot_curves(list(w), b, X_train, Y_train)\n",
    "    return w, b"
   ]
  },
  {
   "cell_type": "code",
   "execution_count": null,
   "metadata": {
    "id": "z2yWJ34ou_aF"
   },
   "outputs": [],
   "source": [
    "X_train, Y_train, X_test, Y_test = split_data(X_multi, Y_multi)\n",
    "\n",
    "w, b = multivar_grad(X_train, Y_train, X_test, Y_test)\n",
    "\n",
    "print('----' * 30)\n",
    "\n",
    "w, b = multivar_closedform(X_train, Y_train, X_test, Y_test)"
   ]
  },
  {
   "cell_type": "markdown",
   "metadata": {
    "id": "0sVpDgGodOHX"
   },
   "source": [
    "# Regularization"
   ]
  },
  {
   "cell_type": "code",
   "execution_count": null,
   "metadata": {
    "id": "q_URsKIPdTXu"
   },
   "outputs": [],
   "source": [
    "\n",
    "def multivar_reg_grad(X_train, Y_train, X_val, Y_val, epochs=100, lr=1e-3, lamda = 1):\n",
    "    '''\n",
    "    Perform L2 regularized multi variable least squares regression using gradient descent\n",
    "\n",
    "    Args:\n",
    "    X_train - numpy array of shape (n_samples_train, 5)\n",
    "    Y_train - numpy array of shape (n_samples_train, 1)\n",
    "    X_val - numpy array of shape (n_samples_val, 5)\n",
    "    Y_val - numpy array of shape (n_samples_val, 1)\n",
    "    epochs - number of gradient descent steps\n",
    "    lr - learnig rate\n",
    "    lamda - regularization weight\n",
    "    '''\n",
    "\n",
    "    w = [0.0] * X_train.shape[1]\n",
    "    b = 0\n",
    "\n",
    "    ## TODO\n",
    "\n",
    "    \n",
    "\n",
    "    ## END TODO\n",
    "\n",
    "    mse_train = mse_multi_var(X_train, Y_train, w, b)\n",
    "    mse_val = mse_multi_var(X_val, Y_val, w, b)\n",
    "    print(f'Validation loss if {mse_val}')\n",
    "    print(f'Training Loss loss if {mse_train}')\n",
    "    plot_curves(list(w), b, X_train, Y_train)\n",
    "    return w, b\n",
    "\n",
    "\n",
    "def multivar_reg_closedform(X_train, Y_train, X_val, Y_val, lamda=0.5):\n",
    "    '''\n",
    "    Perform L2 regularized multi variable least squares regression using \n",
    "    closed form update rules\n",
    "\n",
    "    Args:\n",
    "    X_train - numpy array of shape (n_samples_train, 5)\n",
    "    Y_train - numpy array of shape (n_samples_train, 1)\n",
    "    X_val - numpy array of shape (n_samples_val, 5)\n",
    "    Y_val - numpy array of shape (n_samples_val, 1)\n",
    "    lambda - regularization weight\n",
    "    '''\n",
    "\n",
    "    w = [0.0] * X_train.shape[1]\n",
    "    b = 0\n",
    "\n",
    "    ## TODO\n",
    "    \n",
    "\n",
    "\n",
    "    ## END TODO\n",
    "\n",
    "    mse_train = mse_multi_var(X_train, Y_train, w, b)\n",
    "    mse_val = mse_multi_var(X_val, Y_val, w, b)\n",
    "    print(f'Validation loss if {mse_val}')\n",
    "    print(f'Training Loss loss if {mse_train}')\n",
    "    plot_curves(list(w), b, X_train, Y_train)\n",
    "    return w, b\n"
   ]
  },
  {
   "cell_type": "code",
   "execution_count": null,
   "metadata": {
    "id": "UxQ47oThrOD2"
   },
   "outputs": [],
   "source": [
    "X_train, Y_train, X_val, Y_val = split_data(X_multi, Y_multi, train_ratio=0.6)\n",
    "\n",
    "w, b = multivar_reg_grad(X_train, Y_train, X_val, Y_val)\n",
    "\n",
    "print('----' * 30)\n",
    "\n",
    "w, b = multivar_reg_closedform(X_train, Y_train, X_val, Y_val)"
   ]
  },
  {
   "cell_type": "markdown",
   "metadata": {
    "id": "SdZdA6K5dUGQ"
   },
   "source": [
    "# Bayesian Linear Regression\n",
    "\n",
    "As we studied in class, in Bayesian approach, we model the parameters of the model as a Random variable. \n",
    "\n",
    "We assume a (conjugate) prior distribution over the parameters ($p(w)$) and update  the posterior $p(w | D)$ based on the obervations.\n",
    "\n",
    "In this assignment, we will assume that parameters are sampled from Gaussian distribution and try to learn the mean and variance of posterior.\n",
    "\n",
    "Following the above discussion,\n",
    "\n",
    "- let prior $p(w) = \\mathcal{N}(\\mu_0, \\sum_0) = \\mathcal{N}(0, 0.5)$\n",
    "- We know that $p(w | \\mathcal{D}) \\propto p(w) P(\\mathcal{D} | w)$\n",
    "- Then, $p(w | \\mathcal{D}) = \\mathcal{N}(\\mu_N, \\sum_N)$\n",
    "- And $p(\\mathcal{D} | w) = \\mathcal{N}(y| w^Tx, \\sigma^2I)$\n",
    "\n",
    "For this assignment, feel free to play with various values of $\\sigma^2$ that gives you a better fit.\n",
    "\n",
    "Finally the posterior parameters are given by, <br>\n",
    "$\\mu_N = \\sum_N (\\sum_0^{-1} \\mu_0 + \\frac{1}{\\sigma^2}X^Ty)$ <br>\n",
    "$\\sum_N = (\\sum_0^{-1} + \\frac{1}{\\sigma^2}X^TX)^{-1}$\n",
    "\n",
    "\n",
    "### Learning Bias b\n",
    "Eventhough the above formula shows how to compute $w$, we expect you to learn the bias $b$ also.\n",
    "\n",
    "<font color='blue'> Hint: You can append a constant $1$ to all the input features $x$. Thus making the data $X \\in \\mathcal{R}^{d+1}$. </font>"
   ]
  },
  {
   "cell_type": "code",
   "execution_count": null,
   "metadata": {
    "id": "ae2W0mYFdWRA"
   },
   "outputs": [],
   "source": [
    "def bayesion_lr(X_train, Y_train, X_val, Y_val):\n",
    "    '''\n",
    "    Perform Bayesian Linear Regression\n",
    "\n",
    "    Args:\n",
    "    X_train - numpy array of shape (n_samples_train, 5)\n",
    "    Y_train - numpy array of shape (n_samples_train, 1)\n",
    "    X_val - numpy array of shape (n_samples_val, 5)\n",
    "    Y_val - numpy array of shape (n_samples_val, 1)\n",
    "    '''\n",
    "\n",
    "    ## TODO\n",
    "\n",
    "\n",
    "    \n",
    "    ## END TODO\n",
    "\n",
    "    plot_curves(w, b, X_train, Y_train)"
   ]
  },
  {
   "cell_type": "code",
   "execution_count": null,
   "metadata": {
    "id": "zByymfSePAsM"
   },
   "outputs": [],
   "source": [
    "X_train, Y_train, X_val, Y_val = split_data(X_multi, Y_multi, train_ratio=0.6)\n",
    "\n",
    "bayesion_lr(X_train, Y_train, X_val, Y_val)"
   ]
  }
 ],
 "metadata": {
  "colab": {
   "collapsed_sections": [],
   "name": "polynomial_curve_fitting (Questions).ipynb",
   "provenance": []
  },
  "interpreter": {
   "hash": "e9d3b97f51c73fb030ee137a5b8f49d0f37ab530bc5cbc39aaffde567a81edd4"
  },
  "kernelspec": {
   "display_name": "Python 3",
   "language": "python",
   "name": "python3"
  },
  "language_info": {
   "codemirror_mode": {
    "name": "ipython",
    "version": 3
   },
   "file_extension": ".py",
   "mimetype": "text/x-python",
   "name": "python",
   "nbconvert_exporter": "python",
   "pygments_lexer": "ipython3",
   "version": "3.8.8"
  }
 },
 "nbformat": 4,
 "nbformat_minor": 1
}
