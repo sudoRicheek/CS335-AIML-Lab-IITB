{
 "cells": [
  {
   "cell_type": "markdown",
   "metadata": {
    "id": "B8gKZpl5me4I"
   },
   "source": [
    "\n",
    "## <font color=red> You should not import any new libraries. Your code should run with python=3.x</font>\n",
    "## <font color=red> Please don't rename this .ipynb file.</font><br>\n",
    "- Your solutions will be auto-graded. Hence we request you to follow the instructions.\n",
    "- Modify the code only between \n",
    "```\n",
    "## TODO\n",
    "## END TODO\n",
    "```\n",
    "- In addition to above changes, you can play with arguments to the functions for generating plots\n",
    "- We will run the auto grading scripts with private test data"
   ]
  },
  {
   "cell_type": "code",
   "execution_count": 1,
   "metadata": {
    "id": "gnXVhbxMc10V"
   },
   "outputs": [],
   "source": [
    "import math\n",
    "import numpy as np\n",
    "import matplotlib.pyplot as plt\n",
    "import pandas as pd\n",
    "from numpy.linalg import inv # use this function to invert matrices"
   ]
  },
  {
   "cell_type": "markdown",
   "metadata": {
    "id": "1tzeArL4rODu"
   },
   "source": [
    "## Please make sure that your code works with loading data from relative path only\n",
    "\n",
    "i.e. ```pd.read_csv('./data/single_var_new.csv')``` should not throw an error when we run the auto-grading scripts"
   ]
  },
  {
   "cell_type": "code",
   "execution_count": 2,
   "metadata": {
    "id": "8dO3U5A1rODu"
   },
   "outputs": [],
   "source": [
    "data_single = pd.read_csv('./data/single_var.csv')\n",
    "X_single = np.array(data_single['x_gt'])\n",
    "Y_single = np.array(data_single['y_gt'])\n",
    "\n",
    "data_multi = pd.read_csv('./data/multi_var.csv')\n",
    "cols = [f\"x_gt_{idx}\" for idx in range(1, 6)]\n",
    "X_multi = np.array(data_multi[cols])\n",
    "Y_multi = np.array(data_multi['y_gt'])"
   ]
  },
  {
   "cell_type": "markdown",
   "metadata": {
    "id": "ko_aLCmDdXvZ"
   },
   "source": [
    "## Plot Graphs\n",
    "\n",
    "- This function plots the ground truth curve in <font color=green>green</font> and the predicted function in <font color=red>red</font>"
   ]
  },
  {
   "cell_type": "code",
   "execution_count": 3,
   "metadata": {
    "id": "xlXKQnMtrODv"
   },
   "outputs": [],
   "source": [
    "def plot_curves(w, b, x, y):\n",
    "  '''\n",
    "  Plots the curves for groud truth function and the fitted function\n",
    "\n",
    "  Args:\n",
    "  w - list of parameters\n",
    "  b - float\n",
    "  x - data features\n",
    "  y - output value\n",
    "  '''\n",
    "\n",
    "  assert type(w) == type([0]), f'Please pass a list of parameters to plot_curves and not {type(w)}'\n",
    "\n",
    "  x_gt = np.linspace(-1, 2, 50)\n",
    "  y_gt = 1 - 3 * x_gt - 2 * x_gt ** 2 + 2.5 * x_gt ** 3\n",
    "\n",
    "  if len(w) == 1:\n",
    "    y_fit = w * x_gt + b\n",
    "  elif len(w) == 5:\n",
    "    x_fit = x_gt\n",
    "    for pow in range(2, 4):\n",
    "      x_fit = np.vstack([x_fit, np.power(x_gt, pow)])\n",
    "    \n",
    "    x_fit = np.vstack([x_fit, np.sin(np.pi * 2 * x_gt)])\n",
    "    x_fit = np.vstack([x_fit, np.cos(np.pi * x_gt)])\n",
    "    y_fit = np.dot(w, x_fit) + b\n",
    "  else:\n",
    "    assert False, 'Pass a valid w'\n",
    "  plt.plot(x_gt, y_gt, color=\"green\", label='1 - 3 * x - 2 * x ** 2 + 2.5 * x ** 3')\n",
    "  plt.plot(x_gt, y_fit, color='red', label=\"Fitted Function y = w.Tx + b\")\n",
    "  if len(x.shape) == 1:\n",
    "    x_plot = np.vstack([x, np.ones(len(x))]).T\n",
    "  else:\n",
    "    x_plot = x\n",
    "  plt.scatter(x_plot[:,0],y)\n",
    "  plt.legend()\n",
    "  plt.title(\"OLS\")\n",
    "  plt.show()"
   ]
  },
  {
   "cell_type": "markdown",
   "metadata": {
    "id": "2x12RnAoy45s"
   },
   "source": [
    "## Split data into train/validation\n",
    "- make sure that training and validation datasets are disjoint\n",
    "- Split data into train and validation sets such that train contains floor(n_sampes * train_ratio) and test contains the remaining samples"
   ]
  },
  {
   "cell_type": "code",
   "execution_count": 4,
   "metadata": {
    "id": "wq4DFSUprODw"
   },
   "outputs": [],
   "source": [
    "def split_data(X, Y, train_ratio=0.6):\n",
    "    '''\n",
    "    Split data into train and validation sets such that train\n",
    "    contains floor(n_sampes * train_ratio) and test contains the remaining\n",
    "    samples\n",
    "\n",
    "    Args:\n",
    "    X - numpy array of shape (n_samples, n_features)\n",
    "    Y - numpy array of shape (n_samples, 1)\n",
    "    train_ratio - fraction of samples to be used as training data\n",
    "\n",
    "    Returns:\n",
    "    X_train, Y_train, X_val, Y_val\n",
    "    '''\n",
    "\n",
    "    ## TODO\n",
    "    n_samples = Y.shape[0]\n",
    "    indices = np.arange(n_samples)\n",
    "    np.random.seed(42)\n",
    "    np.random.shuffle(indices)\n",
    "    train_indices = indices[:int(n_samples*train_ratio)]\n",
    "    validation_indices = indices[int(n_samples*train_ratio):]\n",
    "    \n",
    "    X_train = X[train_indices]\n",
    "    Y_train = Y[train_indices]\n",
    "    \n",
    "    X_val = X[validation_indices]\n",
    "    Y_val = Y[validation_indices] \n",
    "    ## END TODO\n",
    "    \n",
    "    return X_train, Y_train, X_val, Y_val"
   ]
  },
  {
   "cell_type": "markdown",
   "metadata": {
    "id": "6Eh-aXuzrODy"
   },
   "source": [
    "## mse for single variable regression"
   ]
  },
  {
   "cell_type": "code",
   "execution_count": 5,
   "metadata": {
    "id": "vbLHCBUyrODz"
   },
   "outputs": [],
   "source": [
    "def mse_single_var(X, Y, w, b):\n",
    "    '''\n",
    "    Compute mean squared error between predictions and true y values\n",
    "\n",
    "    Args:\n",
    "    X - numpy array of shape (n_samples, 1)\n",
    "    Y - numpy array of shape (n_samples, 1)\n",
    "    w - a float\n",
    "    b - a float\n",
    "    '''\n",
    "\n",
    "    ## TODO\n",
    "    mse = np.square((w*X + b) - Y).mean()\n",
    "    ## END TODO\n",
    "\n",
    "    return mse"
   ]
  },
  {
   "cell_type": "code",
   "execution_count": 6,
   "metadata": {
    "id": "rYAAHfL7rODz"
   },
   "outputs": [],
   "source": [
    "def mse_multi_var(X, Y, w, b):\n",
    "    '''\n",
    "    Compute mean squared error between predictions and true y values\n",
    "\n",
    "    Args:\n",
    "    X - numpy array of shape (n_samples, 5)\n",
    "    Y - numpy array of shape (n_samples, 1)\n",
    "    w - list of parameters\n",
    "    b - a float\n",
    "    '''\n",
    "\n",
    "    ## TODO\n",
    "    Y_pred = X @ w + b\n",
    "    mse = np.square(Y - Y_pred).mean()\n",
    "    ## END TODO\n",
    "\n",
    "    return mse"
   ]
  },
  {
   "cell_type": "code",
   "execution_count": 7,
   "metadata": {
    "id": "Opc-jPt8rODz"
   },
   "outputs": [],
   "source": [
    "def mse_regularized(X, Y, w, b, lamda):\n",
    "    '''\n",
    "    Compute mean squared error between predictions and true y values\n",
    "\n",
    "    Args:\n",
    "    X - numpy array of shape (n_samples, 5)\n",
    "    Y - numpy array of shape (n_samples, 1)\n",
    "    w - list of parameters\n",
    "    b - a float\n",
    "    '''\n",
    "\n",
    "    ## TODO\n",
    "    Y_pred = X @ w + b\n",
    "    w_e = w + [b]\n",
    "    mse = np.square(Y - Y_pred).mean() + lamda * np.square(w_e).mean()\n",
    "    ## END TODO\n",
    "\n",
    "    return mse"
   ]
  },
  {
   "cell_type": "markdown",
   "metadata": {
    "id": "PyeQbbkjdE6v"
   },
   "source": [
    "# Single Variable Regression"
   ]
  },
  {
   "cell_type": "code",
   "execution_count": 8,
   "metadata": {
    "id": "Ws8XUJXJrOD0"
   },
   "outputs": [],
   "source": [
    "def singlevar_grad(X_train, Y_train, X_val, Y_val, epochs=100000, lr=1e-3):\n",
    "    '''\n",
    "    Perform single variable least squares regression using gradient descent\n",
    "\n",
    "    Args:\n",
    "    X_train - numpy array of shape (n_samples_train, 1)\n",
    "    Y_train - numpy array of shape (n_samples_train, 1)\n",
    "    X_val - numpy array of shape (n_samples_val, 1)\n",
    "    Y_val - numpy array of shape (n_samples_val, 1)\n",
    "    epochs - number of gradient descent steps\n",
    "    lr - learnig rate\n",
    "    '''\n",
    "\n",
    "    # Initialize the parameters with 0\n",
    "    w = 0\n",
    "    b = 0\n",
    "\n",
    "    ## TODO\n",
    "    for i in range(epochs):\n",
    "        dmse_dw = 2*(w*np.square(X_train) + b*X_train - np.multiply(X_train, Y_train)).mean()\n",
    "        dmse_db = 2*(w*X_train + b - Y_train).mean()  \n",
    "        w = w - lr*dmse_dw\n",
    "        b = b - lr*dmse_db        \n",
    "    ## END TODO\n",
    "\n",
    "    mse_train = mse_single_var(X_train, Y_train, w, b)\n",
    "    mse_val = mse_single_var(X_val, Y_val, w, b)\n",
    "    print(f'Validation loss is {mse_val}')\n",
    "    print(f'Training Loss loss is {mse_train}')\n",
    "    plot_curves([w], b, X_train, Y_train)\n",
    "    return w, b\n",
    "\n",
    "\n",
    "def singlevar_closedform(X_train, Y_train, X_val, Y_val):\n",
    "    '''\n",
    "    Perform single variable least squares regression using closed form update \n",
    "    rules\n",
    "\n",
    "    Args:\n",
    "    X_train - numpy array of shape (n_samples_train, 1)\n",
    "    Y_train - numpy array of shape (n_samples_train, 1)\n",
    "    X_val - numpy array of shape (n_samples_val, 1)\n",
    "    Y_val - numpy array of shape (n_samples_val, 1)\n",
    "    '''\n",
    "\n",
    "    w = 0\n",
    "    b = 0\n",
    "\n",
    "    ## TODO\n",
    "    N = X_train.shape[0]\n",
    "    X_extended = np.c_[X_train, np.ones(N)]\n",
    "    \n",
    "    beta = inv(X_extended.T @ X_extended) @ X_extended.T @ Y_train\n",
    "    w = beta[0]\n",
    "    b = beta[1]\n",
    "    ## END TODO\n",
    "\n",
    "\n",
    "    mse_train = mse_single_var(X_train, Y_train, w, b)\n",
    "    mse_val = mse_single_var(X_val, Y_val, w, b)\n",
    "    print(f'Validation loss is {mse_val}')\n",
    "    print(f'Training Loss loss is {mse_train}')\n",
    "    plot_curves([w], b, X_train, Y_train)\n",
    "    return w, b"
   ]
  },
  {
   "cell_type": "code",
   "execution_count": 9,
   "metadata": {
    "id": "gD47NfTcrqed"
   },
   "outputs": [
    {
     "name": "stdout",
     "output_type": "stream",
     "text": [
      "Validation loss is 1.8506201631700439\n",
      "Training Loss loss is 1.9031563175804609\n"
     ]
    },
    {
     "data": {
      "image/png": "[encoded data removed]",
      "text/plain": [
       "<Figure size 432x288 with 1 Axes>"
      ]
     },
     "metadata": {
      "needs_background": "light"
     },
     "output_type": "display_data"
    },
    {
     "name": "stdout",
     "output_type": "stream",
     "text": [
      "------------------------------------------------------------------------------------------------------------------------\n",
      "Validation loss is 1.850620163170045\n",
      "Training Loss loss is 1.903156317580461\n"
     ]
    },
    {
     "data": {
      "image/png": "[encoded data removed]",
      "text/plain": [
       "<Figure size 432x288 with 1 Axes>"
      ]
     },
     "metadata": {
      "needs_background": "light"
     },
     "output_type": "display_data"
    },
    {
     "data": {
      "text/plain": [
       "(-0.0935419796778035, 0.10977527870104116)"
      ]
     },
     "execution_count": 9,
     "metadata": {},
     "output_type": "execute_result"
    }
   ],
   "source": [
    "X_train, Y_train, X_val, Y_val = split_data(X_single, Y_single, train_ratio=0.6)\n",
    "\n",
    "singlevar_grad(X_train, Y_train, X_val, Y_val)\n",
    "\n",
    "print('----'*30)\n",
    "\n",
    "singlevar_closedform(X_train, Y_train, X_val, Y_val)"
   ]
  },
  {
   "cell_type": "markdown",
   "metadata": {
    "id": "sWCVK4LtdJVM"
   },
   "source": [
    "# Multi Variable Regression\n"
   ]
  },
  {
   "cell_type": "code",
   "execution_count": 10,
   "metadata": {
    "id": "DAQpmHPurOD1"
   },
   "outputs": [],
   "source": [
    "def multivar_grad(X_train, Y_train, X_val, Y_val, epochs=100000, lr=1e-3):\n",
    "    '''\n",
    "    Perform multi variable least squares regression using gradient descent\n",
    "\n",
    "    Args:\n",
    "    X_train - numpy array of shape (n_samples_train, 5)\n",
    "    Y_train - numpy array of shape (n_samples_train, 1)\n",
    "    X_val - numpy array of shape (n_samples_val, 5)\n",
    "    Y_val - numpy array of shape (n_samples_val, 1)\n",
    "    epochs - number of gradient descent steps\n",
    "    lr - learnig rate\n",
    "    '''\n",
    "\n",
    "    w = [0.0] * X_train.shape[1]\n",
    "    b = 0\n",
    "\n",
    "    ## TODO\n",
    "    N = X_train.shape[0]\n",
    "    X_e = np.c_[np.ones(N), X_train]\n",
    "    w_e = np.zeros(X_train.shape[1] + 1)\n",
    "    for i in range(epochs):\n",
    "        dmse_dw = 2 * (X_e.T @ (X_e @ w_e - Y_train)) / N\n",
    "        w_e = w_e - lr * dmse_dw\n",
    "    w = w_e[1:]\n",
    "    b = w_e[0]\n",
    "    ### END TODO\n",
    "    \n",
    "    mse_train = mse_multi_var(X_train, Y_train, w, b)\n",
    "    mse_val = mse_multi_var(X_val, Y_val, w, b)\n",
    "    print(f'Validation loss if {mse_val}')\n",
    "    print(f'Training Loss loss if {mse_train}')\n",
    "    plot_curves(list(w), b, X_train, Y_train)\n",
    "    return w, b\n",
    "\n",
    "\n",
    "\n",
    "def multivar_closedform(X_train, Y_train, X_val, Y_val):\n",
    "    '''\n",
    "    Perform multi variable least squares regression using closed form \n",
    "    updates\n",
    "\n",
    "    Args:\n",
    "    X_train - numpy array of shape (n_samples_train, 5)\n",
    "    Y_train - numpy array of shape (n_samples_train, 1)\n",
    "    X_val - numpy array of shape (n_samples_val, 5)\n",
    "    Y_val - numpy array of shape (n_samples_val, 1)\n",
    "    '''\n",
    "\n",
    "    w = [0.0] * X_train.shape[1]\n",
    "    b = 0\n",
    "\n",
    "    ## TODO\n",
    "    N = X_train.shape[0]\n",
    "    X_e = np.c_[np.ones(N), X_train]\n",
    "    w_e = inv(X_e.T @ X_e) @ X_e.T @ Y_train\n",
    "    w = w_e[1:]\n",
    "    b = w_e[0]\n",
    "    ## END TODO\n",
    "\n",
    "    mse_train = mse_multi_var(X_train, Y_train, w, b)\n",
    "    mse_val = mse_multi_var(X_val, Y_val, w, b)\n",
    "    print(f'Validation loss if {mse_val}')\n",
    "    print(f'Training Loss loss if {mse_train}')\n",
    "    plot_curves(list(w), b, X_train, Y_train)\n",
    "    return w, b"
   ]
  },
  {
   "cell_type": "code",
   "execution_count": 11,
   "metadata": {
    "id": "z2yWJ34ou_aF"
   },
   "outputs": [
    {
     "name": "stdout",
     "output_type": "stream",
     "text": [
      "Validation loss if 0.3851800122015569\n",
      "Training Loss loss if 0.6649946596815692\n"
     ]
    },
    {
     "data": {
      "image/png": "[encoded data removed]",
      "text/plain": [
       "<Figure size 432x288 with 1 Axes>"
      ]
     },
     "metadata": {
      "needs_background": "light"
     },
     "output_type": "display_data"
    },
    {
     "name": "stdout",
     "output_type": "stream",
     "text": [
      "------------------------------------------------------------------------------------------------------------------------\n",
      "Validation loss if 0.3851060446058173\n",
      "Training Loss loss if 0.6649932830605226\n"
     ]
    },
    {
     "data": {
      "image/png": "[encoded data removed]",
      "text/plain": [
       "<Figure size 432x288 with 1 Axes>"
      ]
     },
     "metadata": {
      "needs_background": "light"
     },
     "output_type": "display_data"
    }
   ],
   "source": [
    "X_train, Y_train, X_test, Y_test = split_data(X_multi, Y_multi)\n",
    "\n",
    "w, b = multivar_grad(X_train, Y_train, X_test, Y_test)\n",
    "\n",
    "print('----' * 30)\n",
    "\n",
    "w, b = multivar_closedform(X_train, Y_train, X_test, Y_test)"
   ]
  },
  {
   "cell_type": "markdown",
   "metadata": {
    "id": "0sVpDgGodOHX"
   },
   "source": [
    "# Regularization"
   ]
  },
  {
   "cell_type": "code",
   "execution_count": 12,
   "metadata": {
    "id": "q_URsKIPdTXu"
   },
   "outputs": [],
   "source": [
    "\n",
    "def multivar_reg_grad(X_train, Y_train, X_val, Y_val, epochs=100000, lr=1e-3, lamda = 0.01):\n",
    "    '''\n",
    "    Perform L2 regularized multi variable least squares regression using gradient descent\n",
    "\n",
    "    Args:\n",
    "    X_train - numpy array of shape (n_samples_train, 5)\n",
    "    Y_train - numpy array of shape (n_samples_train, 1)\n",
    "    X_val - numpy array of shape (n_samples_val, 5)\n",
    "    Y_val - numpy array of shape (n_samples_val, 1)\n",
    "    epochs - number of gradient descent steps\n",
    "    lr - learnig rate\n",
    "    lamda - regularization weight\n",
    "    '''\n",
    "\n",
    "    w = [0.0] * X_train.shape[1]\n",
    "    b = 0\n",
    "\n",
    "    ## TODO\n",
    "    N = X_train.shape[0]\n",
    "    X_e = np.c_[np.ones(N), X_train]\n",
    "    w_e = np.zeros(X_train.shape[1] + 1)\n",
    "    for i in range(epochs):\n",
    "        dridgemse_dw = 2 * (X_e.T @ (X_e @ w_e - Y_train)) / N + 2 * lamda * w_e\n",
    "        w_e = w_e - lr * dridgemse_dw\n",
    "    w = w_e[1:]\n",
    "    b = w_e[0]\n",
    "    ## END TODO\n",
    "\n",
    "    mse_train = mse_multi_var(X_train, Y_train, w, b)\n",
    "    mse_val = mse_multi_var(X_val, Y_val, w, b)\n",
    "    print(f'Validation loss if {mse_val}')\n",
    "    print(f'Training Loss loss if {mse_train}')\n",
    "    plot_curves(list(w), b, X_train, Y_train)\n",
    "    return w, b\n",
    "\n",
    "\n",
    "def multivar_reg_closedform(X_train, Y_train, X_val, Y_val, lamda=0.01):\n",
    "    '''\n",
    "    Perform L2 regularized multi variable least squares regression using \n",
    "    closed form update rules\n",
    "\n",
    "    Args:\n",
    "    X_train - numpy array of shape (n_samples_train, 5)\n",
    "    Y_train - numpy array of shape (n_samples_train, 1)\n",
    "    X_val - numpy array of shape (n_samples_val, 5)\n",
    "    Y_val - numpy array of shape (n_samples_val, 1)\n",
    "    lambda - regularization weight\n",
    "    '''\n",
    "\n",
    "    w = [0.0] * X_train.shape[1]\n",
    "    b = 0\n",
    "\n",
    "    ## TODO\n",
    "    N = X_train.shape[0]\n",
    "    X_e = np.c_[np.ones(N), X_train]\n",
    "    w_e = inv((X_e.T @ X_e)/N + lamda*np.identity(X_train.shape[1]+1)) @ (X_e.T/N) @ Y_train\n",
    "    w = w_e[1:]\n",
    "    b = w_e[0]\n",
    "    ## END TODO\n",
    "\n",
    "    mse_train = mse_multi_var(X_train, Y_train, w, b)\n",
    "    mse_val = mse_multi_var(X_val, Y_val, w, b)\n",
    "    print(f'Validation loss if {mse_val}')\n",
    "    print(f'Training Loss loss if {mse_train}')\n",
    "    plot_curves(list(w), b, X_train, Y_train)\n",
    "    return w, b\n"
   ]
  },
  {
   "cell_type": "code",
   "execution_count": null,
   "metadata": {},
   "outputs": [],
   "source": [
    "X_train, Y_train, X_test, Y_test = split_data(X_multi, Y_multi)\n",
    "\n",
    "w, b = multivar_reg_grad(X_train, Y_train, X_test, Y_test)\n",
    "\n",
    "print('----' * 30)\n",
    "\n",
    "w, b = multivar_reg_closedform(X_train, Y_train, X_test, Y_test)"
   ]
  },
  {
   "cell_type": "code",
   "execution_count": 14,
   "metadata": {
    "id": "UxQ47oThrOD2"
   },
   "outputs": [
    {
     "name": "stdout",
     "output_type": "stream",
     "text": [
      "Validation loss if 0.42128706782819425\n",
      "Training Loss loss if 0.6882287204153148\n"
     ]
    },
    {
     "data": {
      "image/png": "[encoded data removed]",
      "text/plain": [
       "<Figure size 432x288 with 1 Axes>"
      ]
     },
     "metadata": {
      "needs_background": "light"
     },
     "output_type": "display_data"
    },
    {
     "name": "stdout",
     "output_type": "stream",
     "text": [
      "------------------------------------------------------------------------------------------------------------------------\n",
      "Validation loss if 0.4212329137284905\n",
      "Training Loss loss if 0.6881929398352192\n"
     ]
    },
    {
     "data": {
      "image/png": "[encoded data removed]",
      "text/plain": [
       "<Figure size 432x288 with 1 Axes>"
      ]
     },
     "metadata": {
      "needs_background": "light"
     },
     "output_type": "display_data"
    }
   ],
   "source": [
    "X_train, Y_train, X_val, Y_val = split_data(X_multi, Y_multi, train_ratio=0.6)\n",
    "\n",
    "w, b = multivar_reg_grad(X_train, Y_train, X_val, Y_val)\n",
    "\n",
    "print('----' * 30)\n",
    "\n",
    "w, b = multivar_reg_closedform(X_train, Y_train, X_val, Y_val)"
   ]
  },
  {
   "cell_type": "markdown",
   "metadata": {
    "id": "SdZdA6K5dUGQ"
   },
   "source": [
    "# Bayesian Linear Regression\n",
    "\n",
    "As we studied in class, in Bayesian approach, we model the parameters of the model as a Random variable. \n",
    "\n",
    "We assume a (conjugate) prior distribution over the parameters ($p(w)$) and update  the posterior $p(w | D)$ based on the obervations.\n",
    "\n",
    "In this assignment, we will assume that parameters are sampled from Gaussian distribution and try to learn the mean and variance of posterior.\n",
    "\n",
    "Following the above discussion,\n",
    "\n",
    "- let prior $p(w) = \\mathcal{N}(\\mu_0, \\sum_0) = \\mathcal{N}(0, 0.5)$\n",
    "- We know that $p(w | \\mathcal{D}) \\propto p(w) P(\\mathcal{D} | w)$\n",
    "- Then, $p(w | \\mathcal{D}) = \\mathcal{N}(\\mu_N, \\sum_N)$\n",
    "- And $p(\\mathcal{D} | w) = \\mathcal{N}(y| w^Tx, \\sigma^2I)$\n",
    "\n",
    "For this assignment, feel free to play with various values of $\\sigma^2$ that gives you a better fit.\n",
    "\n",
    "Finally the posterior parameters are given by, <br>\n",
    "$\\mu_N = \\sum_N (\\sum_0^{-1} \\mu_0 + \\frac{1}{\\sigma^2}X^Ty)$ <br>\n",
    "$\\sum_N = (\\sum_0^{-1} + \\frac{1}{\\sigma^2}X^TX)^{-1}$\n",
    "\n",
    "\n",
    "### Learning Bias b\n",
    "Eventhough the above formula shows how to compute $w$, we expect you to learn the bias $b$ also.\n",
    "\n",
    "<font color='blue'> Hint: You can append a constant $1$ to all the input features $x$. Thus making the data $X \\in \\mathcal{R}^{d+1}$. </font>"
   ]
  },
  {
   "cell_type": "code",
   "execution_count": 15,
   "metadata": {
    "id": "ae2W0mYFdWRA"
   },
   "outputs": [],
   "source": [
    "def bayesion_lr(X_train, Y_train, X_val, Y_val):\n",
    "    '''\n",
    "    Perform Bayesian Linear Regression\n",
    "\n",
    "    Args:\n",
    "    X_train - numpy array of shape (n_samples_train, 5)\n",
    "    Y_train - numpy array of shape (n_samples_train, 1)\n",
    "    X_val - numpy array of shape (n_samples_val, 5)\n",
    "    Y_val - numpy array of shape (n_samples_val, 1)\n",
    "    '''\n",
    "\n",
    "    ## TODO\n",
    "    N = X_train.shape[0]\n",
    "    d = X_train.shape[1]\n",
    "    sigma = 0.1 # Tweakable parameter\n",
    "    mu0 = np.zeros(d+1)\n",
    "    cov0 = 0.5 * np.identity(d+1)\n",
    "    \n",
    "    X_e = np.c_[np.ones(N), X_train]\n",
    "    \n",
    "    covN = inv(inv(cov0) + (X_e.T @ X_e)/(sigma**2))\n",
    "    muN = covN @ (inv(cov0) @ mu0 + (X_e.T @ Y_train)/(sigma**2))\n",
    "    \n",
    "    w = list(muN[1:])\n",
    "    b = muN[0]\n",
    "    ## END TODO\n",
    "\n",
    "    plot_curves(w, b, X_train, Y_train)\n",
    "    return w, b"
   ]
  },
  {
   "cell_type": "code",
   "execution_count": 16,
   "metadata": {
    "id": "zByymfSePAsM"
   },
   "outputs": [
    {
     "data": {
      "image/png": "[encoded data removed]",
      "text/plain": [
       "<Figure size 432x288 with 1 Axes>"
      ]
     },
     "metadata": {
      "needs_background": "light"
     },
     "output_type": "display_data"
    },
    {
     "data": {
      "text/plain": [
       "([-2.615822718575096,\n",
       "  -1.612409219969178,\n",
       "  2.1196115043723065,\n",
       "  0.1273347674995599,\n",
       "  0.06637331116014655],\n",
       " 0.7791317278510588)"
      ]
     },
     "execution_count": 16,
     "metadata": {},
     "output_type": "execute_result"
    }
   ],
   "source": [
    "X_train, Y_train, X_val, Y_val = split_data(X_multi, Y_multi, train_ratio=0.6)\n",
    "\n",
    "bayesion_lr(X_train, Y_train, X_val, Y_val)"
   ]
  },
  {
   "cell_type": "code",
   "execution_count": null,
   "metadata": {},
   "outputs": [],
   "source": []
  }
 ],
 "metadata": {
  "colab": {
   "collapsed_sections": [],
   "name": "polynomial_curve_fitting (Questions).ipynb",
   "provenance": []
  },
  "interpreter": {
   "hash": "e9d3b97f51c73fb030ee137a5b8f49d0f37ab530bc5cbc39aaffde567a81edd4"
  },
  "kernelspec": {
   "display_name": "Python 3 (ipykernel)",
   "language": "python",
   "name": "python3"
  },
  "language_info": {
   "codemirror_mode": {
    "name": "ipython",
    "version": 3
   },
   "file_extension": ".py",
   "mimetype": "text/x-python",
   "name": "python",
   "nbconvert_exporter": "python",
   "pygments_lexer": "ipython3",
   "version": "3.9.4"
  }
 },
 "nbformat": 4,
 "nbformat_minor": 4
}
